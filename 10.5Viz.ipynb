{
 "cells": [
  {
   "cell_type": "code",
   "execution_count": 2,
   "metadata": {},
   "outputs": [],
   "source": [
    "import numpy as np\n",
    "import pandas as pd\n",
    "import matplotlib.pyplot as plt\n",
    "import bqplot"
   ]
  },
  {
   "cell_type": "code",
   "execution_count": 10,
   "metadata": {},
   "outputs": [
    {
     "data": {
      "text/html": [
       "<div>\n",
       "<style scoped>\n",
       "    .dataframe tbody tr th:only-of-type {\n",
       "        vertical-align: middle;\n",
       "    }\n",
       "\n",
       "    .dataframe tbody tr th {\n",
       "        vertical-align: top;\n",
       "    }\n",
       "\n",
       "    .dataframe thead th {\n",
       "        text-align: right;\n",
       "    }\n",
       "</style>\n",
       "<table border=\"1\" class=\"dataframe\">\n",
       "  <thead>\n",
       "    <tr style=\"text-align: right;\">\n",
       "      <th></th>\n",
       "      <th>date</th>\n",
       "      <th>county</th>\n",
       "      <th>state</th>\n",
       "      <th>fips</th>\n",
       "      <th>cases</th>\n",
       "      <th>deaths</th>\n",
       "    </tr>\n",
       "  </thead>\n",
       "  <tbody>\n",
       "    <tr>\n",
       "      <th>0</th>\n",
       "      <td>2020-01-21</td>\n",
       "      <td>Snohomish</td>\n",
       "      <td>Washington</td>\n",
       "      <td>53061.0</td>\n",
       "      <td>1</td>\n",
       "      <td>0.0</td>\n",
       "    </tr>\n",
       "    <tr>\n",
       "      <th>1</th>\n",
       "      <td>2020-01-22</td>\n",
       "      <td>Snohomish</td>\n",
       "      <td>Washington</td>\n",
       "      <td>53061.0</td>\n",
       "      <td>1</td>\n",
       "      <td>0.0</td>\n",
       "    </tr>\n",
       "    <tr>\n",
       "      <th>2</th>\n",
       "      <td>2020-01-23</td>\n",
       "      <td>Snohomish</td>\n",
       "      <td>Washington</td>\n",
       "      <td>53061.0</td>\n",
       "      <td>1</td>\n",
       "      <td>0.0</td>\n",
       "    </tr>\n",
       "    <tr>\n",
       "      <th>3</th>\n",
       "      <td>2020-01-24</td>\n",
       "      <td>Cook</td>\n",
       "      <td>Illinois</td>\n",
       "      <td>17031.0</td>\n",
       "      <td>1</td>\n",
       "      <td>0.0</td>\n",
       "    </tr>\n",
       "    <tr>\n",
       "      <th>4</th>\n",
       "      <td>2020-01-24</td>\n",
       "      <td>Snohomish</td>\n",
       "      <td>Washington</td>\n",
       "      <td>53061.0</td>\n",
       "      <td>1</td>\n",
       "      <td>0.0</td>\n",
       "    </tr>\n",
       "    <tr>\n",
       "      <th>...</th>\n",
       "      <td>...</td>\n",
       "      <td>...</td>\n",
       "      <td>...</td>\n",
       "      <td>...</td>\n",
       "      <td>...</td>\n",
       "      <td>...</td>\n",
       "    </tr>\n",
       "    <tr>\n",
       "      <th>1806862</th>\n",
       "      <td>2021-10-11</td>\n",
       "      <td>Sweetwater</td>\n",
       "      <td>Wyoming</td>\n",
       "      <td>56037.0</td>\n",
       "      <td>7187</td>\n",
       "      <td>70.0</td>\n",
       "    </tr>\n",
       "    <tr>\n",
       "      <th>1806863</th>\n",
       "      <td>2021-10-11</td>\n",
       "      <td>Teton</td>\n",
       "      <td>Wyoming</td>\n",
       "      <td>56039.0</td>\n",
       "      <td>5000</td>\n",
       "      <td>13.0</td>\n",
       "    </tr>\n",
       "    <tr>\n",
       "      <th>1806864</th>\n",
       "      <td>2021-10-11</td>\n",
       "      <td>Uinta</td>\n",
       "      <td>Wyoming</td>\n",
       "      <td>56041.0</td>\n",
       "      <td>3674</td>\n",
       "      <td>26.0</td>\n",
       "    </tr>\n",
       "    <tr>\n",
       "      <th>1806865</th>\n",
       "      <td>2021-10-11</td>\n",
       "      <td>Washakie</td>\n",
       "      <td>Wyoming</td>\n",
       "      <td>56043.0</td>\n",
       "      <td>1521</td>\n",
       "      <td>29.0</td>\n",
       "    </tr>\n",
       "    <tr>\n",
       "      <th>1806866</th>\n",
       "      <td>2021-10-11</td>\n",
       "      <td>Weston</td>\n",
       "      <td>Wyoming</td>\n",
       "      <td>56045.0</td>\n",
       "      <td>957</td>\n",
       "      <td>8.0</td>\n",
       "    </tr>\n",
       "  </tbody>\n",
       "</table>\n",
       "<p>1806867 rows × 6 columns</p>\n",
       "</div>"
      ],
      "text/plain": [
       "              date      county       state     fips  cases  deaths\n",
       "0       2020-01-21   Snohomish  Washington  53061.0      1     0.0\n",
       "1       2020-01-22   Snohomish  Washington  53061.0      1     0.0\n",
       "2       2020-01-23   Snohomish  Washington  53061.0      1     0.0\n",
       "3       2020-01-24        Cook    Illinois  17031.0      1     0.0\n",
       "4       2020-01-24   Snohomish  Washington  53061.0      1     0.0\n",
       "...            ...         ...         ...      ...    ...     ...\n",
       "1806862 2021-10-11  Sweetwater     Wyoming  56037.0   7187    70.0\n",
       "1806863 2021-10-11       Teton     Wyoming  56039.0   5000    13.0\n",
       "1806864 2021-10-11       Uinta     Wyoming  56041.0   3674    26.0\n",
       "1806865 2021-10-11    Washakie     Wyoming  56043.0   1521    29.0\n",
       "1806866 2021-10-11      Weston     Wyoming  56045.0    957     8.0\n",
       "\n",
       "[1806867 rows x 6 columns]"
      ]
     },
     "execution_count": 10,
     "metadata": {},
     "output_type": "execute_result"
    }
   ],
   "source": [
    "import io\n",
    "import requests\n",
    "url=\"https://raw.githubusercontent.com/nytimes/covid-19-data/master/us-counties.csv\"\n",
    "s=requests.get(url).content\n",
    "df=pd.read_csv(io.StringIO(s.decode('utf-8')), parse_dates=[\"date\"])\n",
    "df"
   ]
  },
  {
   "cell_type": "code",
   "execution_count": 12,
   "metadata": {},
   "outputs": [],
   "source": [
    "x_sc = bqplot.DateScale()\n",
    "y_sc = bqplot.LinearScale()\n",
    "x_ax = bqplot.Axis(scale=x_sc, label=\"Date\")\n",
    "y_ax = bqplot.Axis(scale=y_sc, Label=\"Cases(cumulative)\", orientation=\"vertical\")"
   ]
  },
  {
   "cell_type": "code",
   "execution_count": 13,
   "metadata": {},
   "outputs": [],
   "source": [
    "illinois_results = df[df[\"state\"] == \"Illinois\"]"
   ]
  },
  {
   "cell_type": "code",
   "execution_count": 21,
   "metadata": {},
   "outputs": [],
   "source": [
    "date_selection = bqplot.interacts.FastIntervalSelector(scale=x_sc)"
   ]
  },
  {
   "cell_type": "code",
   "execution_count": 22,
   "metadata": {},
   "outputs": [
    {
     "data": {
      "application/vnd.jupyter.widget-view+json": {
       "model_id": "1158df9a468241358349e49c25c1da30",
       "version_major": 2,
       "version_minor": 0
      },
      "text/plain": [
       "Figure(axes=[Axis(label='Date', scale=DateScale(), side='bottom'), Axis(orientation='vertical', scale=LinearSc…"
      ]
     },
     "metadata": {},
     "output_type": "display_data"
    }
   ],
   "source": [
    "lines = bqplot.Lines(x=illinois_results[\"date\"], y=illinois_results[\"cases\"], scales={'x': x_sc, 'y': y_sc})\n",
    "fig = bqplot.Figure(marks=[lines], axes=[x_ax, y_ax], interaction=date_selection)\n",
    "fig"
   ]
  },
  {
   "cell_type": "code",
   "execution_count": 30,
   "metadata": {},
   "outputs": [
    {
     "data": {
      "application/vnd.jupyter.widget-view+json": {
       "model_id": "1fa6e8c873ee4ec085be1fad40c30f87",
       "version_major": 2,
       "version_minor": 0
      },
      "text/plain": [
       "Figure(fig_margin={'top': 60, 'bottom': 60, 'left': 60, 'right': 60}, marks=[Map(hovered_styles={'hovered_fill…"
      ]
     },
     "metadata": {},
     "output_type": "display_data"
    }
   ],
   "source": [
    "proj = bqplot.AlbersUSA()\n",
    "mark = bqplot.Map(\n",
    "\tmap_data = bqplot.topo_load(\"map_data/USStatesMap.json\"),\n",
    "\tscales = {\"projection\": proj}\n",
    ")\n",
    "fig = bqplot.Figure(marks = [mark])\n",
    "fig"
   ]
  },
  {
   "cell_type": "code",
   "execution_count": 32,
   "metadata": {},
   "outputs": [],
   "source": [
    "mark.hover_highlight = True"
   ]
  },
  {
   "cell_type": "code",
   "execution_count": 36,
   "metadata": {},
   "outputs": [],
   "source": [
    "case_counts = df.groupby(\"fips\")[\"cases\"].max().to_dict()"
   ]
  },
  {
   "cell_type": "code",
   "execution_count": 37,
   "metadata": {},
   "outputs": [
    {
     "data": {
      "application/vnd.jupyter.widget-view+json": {
       "model_id": "f657fe559c8a465abdfeb8c9cea6e208",
       "version_major": 2,
       "version_minor": 0
      },
      "text/plain": [
       "Figure(axes=[ColorAxis(label='case count', scale=ColorScale(scheme='viridis'))], fig_margin={'top': 60, 'botto…"
      ]
     },
     "metadata": {},
     "output_type": "display_data"
    }
   ],
   "source": [
    "proj = bqplot.AlbersUSA()\n",
    "color_sc = bqplot.ColorScale(scheme='viridis')\n",
    "color_ax = bqplot.ColorAxis(scale=color_sc, label=\"case count\")\n",
    "mark = bqplot.Map(\n",
    "\tmap_data = bqplot.topo_load(\"map_data/USStatesMap.json\"),\n",
    "\tcolor = case_counts,\n",
    "\tscales = {\"projection\": proj, 'color': color_sc}\n",
    ")\n",
    "fig = bqplot.Figure(marks = [mark], axes=[color_ax])\n",
    "fig"
   ]
  },
  {
   "cell_type": "code",
   "execution_count": 49,
   "metadata": {},
   "outputs": [
    {
     "data": {
      "application/vnd.jupyter.widget-view+json": {
       "model_id": "1463f34b59514d19b34f97f3eac07310",
       "version_major": 2,
       "version_minor": 0
      },
      "text/plain": [
       "Figure(axes=[ColorAxis(label='Case Count', scale=ColorScale(scheme='viridis'))], fig_margin={'top': 60, 'botto…"
      ]
     },
     "metadata": {},
     "output_type": "display_data"
    }
   ],
   "source": [
    "case_counts = df.groupby(\"fips\")[\"cases\"].max().to_dict()\n",
    "\n",
    "proj = bqplot.AlbersUSA()\n",
    "\n",
    "color_sc = bqplot.ColorScale(scheme = \"viridis\")\n",
    "color_ax = bqplot.ColorAxis(scale = color_sc, label = 'Case Count')\n",
    "\n",
    "mark = bqplot.Map(\n",
    "    map_data = bqplot.topo_load(\"map_data/USStatesMap.json\"),\n",
    "    color = case_counts,\n",
    "    scales = {'projection': proj, 'color': color_sc}\n",
    ")\n",
    "fig = bqplot.Figure(marks = [mark], axes =[color_ax])\n",
    "display(fig)"
   ]
  },
  {
   "cell_type": "code",
   "execution_count": 47,
   "metadata": {},
   "outputs": [
    {
     "data": {
      "text/plain": [
       "fips\n",
       "1001.0      9851\n",
       "1003.0     36905\n",
       "1005.0      3546\n",
       "1007.0      4194\n",
       "1009.0     10020\n",
       "           ...  \n",
       "72151.0     1627\n",
       "72153.0     1438\n",
       "78010.0     3008\n",
       "78020.0      331\n",
       "78030.0     3611\n",
       "Name: cases, Length: 3218, dtype: int64"
      ]
     },
     "execution_count": 47,
     "metadata": {},
     "output_type": "execute_result"
    }
   ],
   "source": []
  },
  {
   "cell_type": "code",
   "execution_count": null,
   "metadata": {},
   "outputs": [],
   "source": []
  }
 ],
 "metadata": {
  "interpreter": {
   "hash": "aee8b7b246df8f9039afb4144a1f6fd8d2ca17a180786b69acc140d282b71a49"
  },
  "kernelspec": {
   "display_name": "Python 3.9.7 64-bit",
   "name": "python3"
  },
  "language_info": {
   "codemirror_mode": {
    "name": "ipython",
    "version": 3
   },
   "file_extension": ".py",
   "mimetype": "text/x-python",
   "name": "python",
   "nbconvert_exporter": "python",
   "pygments_lexer": "ipython3",
   "version": "3.9.7"
  },
  "orig_nbformat": 4
 },
 "nbformat": 4,
 "nbformat_minor": 2
}
