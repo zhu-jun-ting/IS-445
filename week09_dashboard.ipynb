{
 "cells": [
  {
   "cell_type": "code",
   "execution_count": 3,
   "metadata": {},
   "outputs": [],
   "source": [
    "import bqplot\n",
    "import pandas as pd\n",
    "import numpy as np\n",
    "import ipywidgets\n",
    "import traitlets"
   ]
  },
  {
   "cell_type": "code",
   "execution_count": 4,
   "metadata": {},
   "outputs": [],
   "source": [
    "states = pd.read_csv(\"us-states.csv\", parse_dates = [\"date\"])\n",
    "counties = pd.read_csv(\"us-counties.csv\", parse_dates = [\"date\"])"
   ]
  },
  {
   "cell_type": "code",
   "execution_count": 5,
   "metadata": {},
   "outputs": [
    {
     "data": {
      "application/vnd.jupyter.widget-view+json": {
       "model_id": "92336f23ea204d4f8484d8becdf13a93",
       "version_major": 2,
       "version_minor": 0
      },
      "text/plain": [
       "Figure(fig_margin={'top': 60, 'bottom': 60, 'left': 60, 'right': 60}, marks=[Map(hovered_styles={'hovered_fill…"
      ]
     },
     "metadata": {},
     "output_type": "display_data"
    }
   ],
   "source": [
    "proj = bqplot.AlbersUSA()\n",
    "mark = bqplot.Map(\n",
    "    map_data = bqplot.topo_load(\"map_data/USStatesMap.json\"),\n",
    "    scales = {'projection': proj}\n",
    ")\n",
    "fig = bqplot.Figure(marks = [mark])\n",
    "display(fig)"
   ]
  },
  {
   "cell_type": "code",
   "execution_count": 19,
   "metadata": {},
   "outputs": [
    {
     "data": {
      "application/vnd.jupyter.widget-view+json": {
       "model_id": "78b1ef60a3fa4d19a68d483c8e596a0b",
       "version_major": 2,
       "version_minor": 0
      },
      "text/plain": [
       "VBox(children=(Label(value=''), Figure(axes=[ColorAxis(label='Case Count', scale=ColorScale(scheme='viridis'))…"
      ]
     },
     "metadata": {},
     "output_type": "display_data"
    }
   ],
   "source": [
    "case_counts = states.groupby(\"fips\")[\"cases\"].max()\n",
    "case_counts.index = case_counts.index.astype('int64')\n",
    "case_counts = case_counts.to_dict()\n",
    "\n",
    "proj = bqplot.AlbersUSA()\n",
    "\n",
    "color_sc = bqplot.ColorScale(scheme = \"viridis\")\n",
    "color_ax = bqplot.ColorAxis(scale = color_sc, label = 'Case Count')\n",
    "\n",
    "mark = bqplot.Map(\n",
    "    map_data = bqplot.topo_load(\"map_data/USStatesMap.json\"),\n",
    "    color = case_counts,\n",
    "    scales = {'projection': proj, 'color': color_sc}\n",
    ")\n",
    "\n",
    "import ipywidgets\n",
    "label = ipywidgets.Label()\n",
    "\n",
    "def hover_over_state(thismark, name):\n",
    "    label.value = \"%s\" % (name)\n",
    "\n",
    "mark.on_hover(hover_over_state)\n",
    "\n",
    "fig = bqplot.Figure(marks = [mark], axes =[color_ax])\n",
    "ipywidgets.VBox([label, fig])"
   ]
  },
  {
   "cell_type": "code",
   "execution_count": 14,
   "metadata": {},
   "outputs": [],
   "source": [
    "proj.translate = (600, 500)\n",
    "proj.scale_factor = 100"
   ]
  },
  {
   "cell_type": "code",
   "execution_count": 23,
   "metadata": {},
   "outputs": [],
   "source": [
    "illinois_cases = counties[counties[\"state\"] == \"Illinois\"].groupby(\"fips\")[\"cases\"].max()\n",
    "illinois_cases.index = illinois_cases.index.astype(\"int64\")\n",
    "\n",
    "county_cases_by_state = {}\n",
    "\n",
    "for state in counties[\"state\"].unique():\n",
    "    state_cases = counties[counties[\"state\"] == state].groupby(\"fips\")[\"cases\"].max()\n",
    "    state_cases.index = state_cases.index.astype(\"int64\")\n",
    "    county_cases_by_state[state] = state_cases"
   ]
  },
  {
   "cell_type": "code",
   "execution_count": 22,
   "metadata": {},
   "outputs": [
    {
     "data": {
      "application/vnd.jupyter.widget-view+json": {
       "model_id": "d68f7059faf14c37b103d10345de535e",
       "version_major": 2,
       "version_minor": 0
      },
      "text/plain": [
       "VBox(children=(Figure(axes=[ColorAxis(label='Case Count', scale=ColorScale(scheme='viridis'))], fig_margin={'t…"
      ]
     },
     "metadata": {},
     "output_type": "display_data"
    }
   ],
   "source": [
    "proj = bqplot.AlbersUSA()\n",
    "\n",
    "color_sc = bqplot.ColorScale(scheme = \"viridis\")\n",
    "color_ax = bqplot.ColorAxis(scale = color_sc, label = 'Case Count')\n",
    "\n",
    "mark = bqplot.Map(\n",
    "    map_data = bqplot.topo_load(\"map_data/USStatesMap.json\"),\n",
    "    color = case_counts,\n",
    "    scales = {'projection': proj, 'color': color_sc}\n",
    ")\n",
    "label = ipywidgets.Label()\n",
    "\n",
    "def hover_over_state(mark, event):\n",
    "    label.value = \"%s\" % (event['data'])\n",
    "\n",
    "mark.on_hover(hover_over_state)\n",
    "mark.hovered_styles = {'hovered_fill': 'none', 'hovered_stroke': 'white', 'hovered_stroke_width': 5.0}\n",
    "\n",
    "fig_states = bqplot.Figure(marks = [mark], axes =[color_ax])\n",
    "\n",
    "proj = bqplot.AlbersUSA()\n",
    "\n",
    "color_sc = bqplot.ColorScale(scheme = \"viridis\")\n",
    "color_ax = bqplot.ColorAxis(scale = color_sc, label = 'Case Count')\n",
    "\n",
    "mark = bqplot.Map(\n",
    "    map_data = bqplot.topo_load(\"map_data/USCountiesMap.json\"),\n",
    "    color = illinois_cases.to_dict(),\n",
    "    colors = {'default_color': 'none'},\n",
    "    scales = {'projection': proj, 'color': color_sc}\n",
    ")\n",
    "label = ipywidgets.Label()\n",
    "\n",
    "fig_counties = bqplot.Figure(marks = [mark], axes =[color_ax])\n",
    "\n",
    "\n",
    "\n",
    "def on_state_hover(mark, event):\n",
    "    mark_counties.color = county_cases_by_state[event['data']['name']].to_dict()\n",
    "\n",
    "mark_states.on_hover(on_state_hover)\n",
    "\n",
    "display(ipywidgets.VBox([fig_states, fig_counties]))"
   ]
  }
 ],
 "metadata": {
  "interpreter": {
   "hash": "aee8b7b246df8f9039afb4144a1f6fd8d2ca17a180786b69acc140d282b71a49"
  },
  "kernelspec": {
   "display_name": "Python 3.9.7 64-bit",
   "name": "python3"
  },
  "language_info": {
   "codemirror_mode": {
    "name": "ipython",
    "version": 3
   },
   "file_extension": ".py",
   "mimetype": "text/x-python",
   "name": "python",
   "nbconvert_exporter": "python",
   "pygments_lexer": "ipython3",
   "version": "3.9.7"
  }
 },
 "nbformat": 4,
 "nbformat_minor": 4
}
